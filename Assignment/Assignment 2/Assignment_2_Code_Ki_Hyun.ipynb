{
 "cells": [
  {
   "cell_type": "markdown",
   "source": [
    "<left>FINM 36702 - Portfolio Credit Risk: Modeling and Estimation</left>\n",
    "<left>Spring 2023</left>\n",
    "<br>\n",
    "<h1><center> Assignment 2 </center></h1>\n",
    "<center>Due - 18:00 [CST] April 6th, 2023</center>\n",
    "<br>\n",
    "<h3>Ki Hyun</h3>\n",
    "<h3>Student ID: 12125881</h3>"
   ],
   "metadata": {
    "collapsed": false
   }
  },
  {
   "cell_type": "markdown",
   "source": [
    "### Imports"
   ],
   "metadata": {
    "collapsed": false
   }
  },
  {
   "cell_type": "code",
   "execution_count": 1,
   "outputs": [],
   "source": [
    "%matplotlib inline"
   ],
   "metadata": {
    "collapsed": false
   }
  },
  {
   "cell_type": "code",
   "execution_count": 2,
   "outputs": [],
   "source": [
    "import numpy as np\n",
    "from scipy.stats import multivariate_normal\n",
    "from scipy.stats import norm\n",
    "import pandas as pd\n",
    "from functools import partial\n",
    "import matplotlib.pyplot as plt\n",
    "import sympy\n",
    "from scipy.optimize import minimize"
   ],
   "metadata": {
    "collapsed": false
   }
  },
  {
   "cell_type": "markdown",
   "source": [
    "### Helper Functions"
   ],
   "metadata": {
    "collapsed": false
   }
  },
  {
   "cell_type": "code",
   "execution_count": 3,
   "outputs": [],
   "source": [
    "def sim_MVN(mu, sigma, strands, seed):\n",
    "    np.random.seed(seed) # setting the seed\n",
    "    return np.random.multivariate_normal(mu, sigma, strands) # returning the simulated numpy array"
   ],
   "metadata": {
    "collapsed": false
   }
  },
  {
   "cell_type": "code",
   "execution_count": 4,
   "outputs": [],
   "source": [
    "def sim_Default(PDs, sim_result):\n",
    "    threshold = np.tile(norm.ppf(PDs), (sim_result.shape[0], 1)) # matching the Gaussian default threshold format\n",
    "    relative_position = sim_result - threshold # getting the relevant position of the simulation in terms of threshold\n",
    "\n",
    "    return np.where(relative_position < 0, 1, 0) # returning numpy array with \"1\" as default and \"0\" otherwise"
   ],
   "metadata": {
    "collapsed": false
   }
  },
  {
   "cell_type": "code",
   "execution_count": 5,
   "outputs": [],
   "source": [
    "def Default_summary(sim_result):\n",
    "    agg = sim_result.sum(axis = 1)\n",
    "    df = pd.DataFrame({'Number of Firms': [agg.mean(), agg.std()]},\n",
    "                      index = ['Mean', 'Std. Dev.'])\n",
    "\n",
    "    return df"
   ],
   "metadata": {
    "collapsed": false
   }
  },
  {
   "cell_type": "code",
   "execution_count": 6,
   "outputs": [],
   "source": [
    "def Sigma_generator(rho, nrow):\n",
    "    sigma = []\n",
    "    for i in range(nrow):\n",
    "        row = []\n",
    "        for j in range(nrow):\n",
    "            if i == j:\n",
    "                row.append(1)\n",
    "            else:\n",
    "                row.append(rho)\n",
    "        sigma.append(row)\n",
    "\n",
    "    return np.array(sigma)"
   ],
   "metadata": {
    "collapsed": false
   }
  },
  {
   "cell_type": "code",
   "execution_count": 7,
   "outputs": [],
   "source": [
    "def MC_Default_std(rho, PDs, mu, strands, seed):\n",
    "    Sigma = Sigma_generator(rho, len(PDs))\n",
    "    sim_result = sim_Default(PDs, sim_MVN(mu, Sigma, strands, seed))\n",
    "    return sim_result.sum(axis = 1).std()"
   ],
   "metadata": {
    "collapsed": false
   }
  },
  {
   "cell_type": "code",
   "execution_count": 8,
   "outputs": [],
   "source": [
    "def MVN_p(rho, pd_1, pd_2):\n",
    "    try:\n",
    "        rho = rho[0]\n",
    "    except:\n",
    "        pass\n",
    "    mu = np.array([0, 0], dtype = float)\n",
    "    sigma = np.array([[1, rho], [rho, 1]], dtype = float)\n",
    "    inv_cdf_1 = norm.ppf(pd_1)\n",
    "    inv_cdf_2 = norm.ppf(pd_2)\n",
    "\n",
    "    # add a small positive value to the diagonal entries of the covariance matrix\n",
    "    sigma += np.eye(2) * 1e-8\n",
    "\n",
    "    cdf = multivariate_normal(mean = mu, cov = sigma).cdf([inv_cdf_1, inv_cdf_2])\n",
    "\n",
    "    return cdf"
   ],
   "metadata": {
    "collapsed": false
   }
  },
  {
   "cell_type": "code",
   "execution_count": 9,
   "outputs": [],
   "source": [
    "def f(x, pd_1, pd_2, pdj):\n",
    "    return abs(MVN_p(x, pd_1, pd_2) - pdj)"
   ],
   "metadata": {
    "collapsed": false
   }
  },
  {
   "cell_type": "markdown",
   "source": [
    "### Constants"
   ],
   "metadata": {
    "collapsed": false
   }
  },
  {
   "cell_type": "code",
   "execution_count": 10,
   "outputs": [],
   "source": [
    "seed = 5881"
   ],
   "metadata": {
    "collapsed": false
   }
  },
  {
   "cell_type": "markdown",
   "source": [
    "# Question 1."
   ],
   "metadata": {
    "collapsed": false
   }
  },
  {
   "cell_type": "markdown",
   "source": [
    "#### Given Correlation Matrix"
   ],
   "metadata": {
    "collapsed": false
   }
  },
  {
   "cell_type": "code",
   "execution_count": 11,
   "outputs": [],
   "source": [
    "mu_1 = np.repeat(0, 5)"
   ],
   "metadata": {
    "collapsed": false
   }
  },
  {
   "cell_type": "code",
   "execution_count": 12,
   "outputs": [],
   "source": [
    "Sigma_1 = np.array([[1, 0.05, 0.1, 0.15, 0.2],\n",
    "                    [0.05, 1, 0.25, 0.3, 0.35],\n",
    "                    [0.1, 0.25, 1, 0.4, 0.45],\n",
    "                    [0.15, 0.3, 0.4, 1, 0.5],\n",
    "                    [0.2, 0.35, 0.45, 0.5, 1]])"
   ],
   "metadata": {
    "collapsed": false
   }
  },
  {
   "cell_type": "code",
   "execution_count": 13,
   "outputs": [],
   "source": [
    "PDs_1 = np.array([0.5, 0.4, 0.3, 0.2, 0.1])"
   ],
   "metadata": {
    "collapsed": false
   }
  },
  {
   "cell_type": "code",
   "execution_count": 14,
   "outputs": [],
   "source": [
    "n_strands_1 = 10000"
   ],
   "metadata": {
    "collapsed": false
   }
  },
  {
   "cell_type": "code",
   "execution_count": 15,
   "outputs": [],
   "source": [
    "sim_results_1 = sim_MVN(mu_1, Sigma_1, n_strands_1, seed)"
   ],
   "metadata": {
    "collapsed": false
   }
  },
  {
   "cell_type": "code",
   "execution_count": 16,
   "outputs": [],
   "source": [
    "x = sim_Default(PDs_1, sim_results_1)"
   ],
   "metadata": {
    "collapsed": false
   }
  },
  {
   "cell_type": "code",
   "execution_count": 17,
   "outputs": [
    {
     "data": {
      "text/plain": "           Number of Firms\nMean              1.501600\nStd. Dev.         1.201914",
      "text/html": "<div>\n<style scoped>\n    .dataframe tbody tr th:only-of-type {\n        vertical-align: middle;\n    }\n\n    .dataframe tbody tr th {\n        vertical-align: top;\n    }\n\n    .dataframe thead th {\n        text-align: right;\n    }\n</style>\n<table border=\"1\" class=\"dataframe\">\n  <thead>\n    <tr style=\"text-align: right;\">\n      <th></th>\n      <th>Number of Firms</th>\n    </tr>\n  </thead>\n  <tbody>\n    <tr>\n      <th>Mean</th>\n      <td>1.501600</td>\n    </tr>\n    <tr>\n      <th>Std. Dev.</th>\n      <td>1.201914</td>\n    </tr>\n  </tbody>\n</table>\n</div>"
     },
     "execution_count": 17,
     "metadata": {},
     "output_type": "execute_result"
    }
   ],
   "source": [
    "Default_summary(x)"
   ],
   "metadata": {
    "collapsed": false
   }
  },
  {
   "cell_type": "markdown",
   "source": [
    "#### Modified Correlation Matrix"
   ],
   "metadata": {
    "collapsed": false
   }
  },
  {
   "cell_type": "code",
   "execution_count": 18,
   "outputs": [],
   "source": [
    "Sigma_2 = np.array([[1, 0, 0, 0, 0], [0, 1, 0, 0, 0], [0, 0, 1, 0, 0], [0, 0, 0, 1, 0], [0, 0, 0, 0, 1]])"
   ],
   "metadata": {
    "collapsed": false
   }
  },
  {
   "cell_type": "code",
   "execution_count": 19,
   "outputs": [],
   "source": [
    "sim_results_2 = sim_MVN(mu_1, Sigma_2, n_strands_1, seed)"
   ],
   "metadata": {
    "collapsed": false
   }
  },
  {
   "cell_type": "code",
   "execution_count": 20,
   "outputs": [],
   "source": [
    "x = sim_Default(PDs_1, sim_results_2)"
   ],
   "metadata": {
    "collapsed": false
   }
  },
  {
   "cell_type": "code",
   "execution_count": 21,
   "outputs": [
    {
     "data": {
      "text/plain": "           Number of Firms\nMean              1.494200\nStd. Dev.         0.976712",
      "text/html": "<div>\n<style scoped>\n    .dataframe tbody tr th:only-of-type {\n        vertical-align: middle;\n    }\n\n    .dataframe tbody tr th {\n        vertical-align: top;\n    }\n\n    .dataframe thead th {\n        text-align: right;\n    }\n</style>\n<table border=\"1\" class=\"dataframe\">\n  <thead>\n    <tr style=\"text-align: right;\">\n      <th></th>\n      <th>Number of Firms</th>\n    </tr>\n  </thead>\n  <tbody>\n    <tr>\n      <th>Mean</th>\n      <td>1.494200</td>\n    </tr>\n    <tr>\n      <th>Std. Dev.</th>\n      <td>0.976712</td>\n    </tr>\n  </tbody>\n</table>\n</div>"
     },
     "execution_count": 21,
     "metadata": {},
     "output_type": "execute_result"
    }
   ],
   "source": [
    "Default_summary(x)"
   ],
   "metadata": {
    "collapsed": false
   }
  },
  {
   "cell_type": "markdown",
   "source": [
    "# Question 2."
   ],
   "metadata": {
    "collapsed": false
   }
  },
  {
   "cell_type": "code",
   "execution_count": 22,
   "outputs": [],
   "source": [
    "rhos = np.arange(start = 0, stop = 0.95, step = 0.01)"
   ],
   "metadata": {
    "collapsed": false
   }
  },
  {
   "cell_type": "code",
   "execution_count": 23,
   "outputs": [],
   "source": [
    "n_strands_2 = 1000"
   ],
   "metadata": {
    "collapsed": false
   }
  },
  {
   "cell_type": "code",
   "execution_count": 24,
   "outputs": [],
   "source": [
    "partial_func = partial(MC_Default_std, PDs = PDs_1, mu = mu_1, strands = n_strands_2, seed = seed)"
   ],
   "metadata": {
    "collapsed": false
   }
  },
  {
   "cell_type": "code",
   "execution_count": 25,
   "outputs": [],
   "source": [
    "y = np.vectorize(partial_func)(rhos)"
   ],
   "metadata": {
    "collapsed": false
   }
  },
  {
   "cell_type": "code",
   "execution_count": 26,
   "outputs": [
    {
     "data": {
      "text/plain": "<Figure size 640x480 with 1 Axes>",
      "image/png": "[encoded data removed]"
     },
     "metadata": {},
     "output_type": "display_data"
    }
   ],
   "source": [
    "# Create a figure and axis\n",
    "fig, ax = plt.subplots()\n",
    "\n",
    "# Plot the data\n",
    "ax.plot(rhos, y)\n",
    "\n",
    "# Add labels and title\n",
    "ax.set_xlabel(r'$\\rho$')\n",
    "ax.set_ylabel('Std. Dev. of Default Numbers')\n",
    "ax.set_title('Correlation vs Risk')\n",
    "\n",
    "# Show the plot\n",
    "plt.show()\n",
    "None"
   ],
   "metadata": {
    "collapsed": false
   }
  },
  {
   "cell_type": "markdown",
   "source": [
    "# Question 3."
   ],
   "metadata": {
    "collapsed": false
   }
  },
  {
   "cell_type": "markdown",
   "source": [
    "#### PDJ of Firm 4 and Firm 5"
   ],
   "metadata": {
    "collapsed": false
   }
  },
  {
   "cell_type": "code",
   "execution_count": 27,
   "outputs": [],
   "source": [
    "PDs_3 = [0.1, 0.2, 0.3, 0.4, 0.5]"
   ],
   "metadata": {
    "collapsed": false
   }
  },
  {
   "cell_type": "code",
   "execution_count": 28,
   "outputs": [],
   "source": [
    "Sigma_3 = np.array([[1, 0.15, 0.2, 0.25, 0.3],\n",
    "                    [0.15, 1, 0.25, 0.3, 0.35],\n",
    "                    [0.2, 0.25, 1, 0.35, 0.4],\n",
    "                    [0.25, 0.3, 0.35, 1, 0.45],\n",
    "                    [0.3, 0.35, 0.4, 0.45, 1]])"
   ],
   "metadata": {
    "collapsed": false
   }
  },
  {
   "cell_type": "code",
   "execution_count": 29,
   "outputs": [
    {
     "data": {
      "text/plain": "0.27175852116748356"
     },
     "execution_count": 29,
     "metadata": {},
     "output_type": "execute_result"
    }
   ],
   "source": [
    "multivariate_normal(mean = mu_1, cov = Sigma_3).cdf([np.inf, # Firm 1\n",
    "                                                     np.inf, # Firm 2\n",
    "                                                     np.inf, # Firm 3\n",
    "                                                     norm.ppf(PDs_3)[3], # Firm 4\n",
    "                                                     norm.ppf(PDs_3)[4]]) # Firm 5"
   ],
   "metadata": {
    "collapsed": false
   }
  },
  {
   "cell_type": "markdown",
   "source": [
    "#### Conditional Default probability"
   ],
   "metadata": {
    "collapsed": false
   }
  },
  {
   "cell_type": "code",
   "execution_count": 30,
   "outputs": [],
   "source": [
    "joint_P = multivariate_normal(mean = mu_1, cov = Sigma_3).cdf([np.inf, # Firm 1\n",
    "                                                               np.inf, # Firm 2\n",
    "                                                               norm.ppf(PDs_3)[2], # Firm 3\n",
    "                                                               norm.ppf(PDs_3)[3], # Firm 4\n",
    "                                                               norm.ppf(PDs_3)[4]]) # Firm 5"
   ],
   "metadata": {
    "collapsed": false
   }
  },
  {
   "cell_type": "code",
   "execution_count": 31,
   "outputs": [],
   "source": [
    "conditional_case = multivariate_normal(mean = mu_1, cov = Sigma_3).cdf([np.inf, # Firm 1\n",
    "                                                                        np.inf, # Firm 2\n",
    "                                                                        norm.ppf(PDs_3)[2], # Firm 3\n",
    "                                                                        np.inf, # Firm 4\n",
    "                                                                        np.inf]) # Firm 5"
   ],
   "metadata": {
    "collapsed": false
   }
  },
  {
   "cell_type": "code",
   "execution_count": 32,
   "outputs": [
    {
     "data": {
      "text/plain": "0.44324468696421687"
     },
     "execution_count": 32,
     "metadata": {},
     "output_type": "execute_result"
    }
   ],
   "source": [
    "joint_P/conditional_case"
   ],
   "metadata": {
    "collapsed": false
   }
  },
  {
   "cell_type": "markdown",
   "source": [
    "#### Expected Loss Rate"
   ],
   "metadata": {
    "collapsed": false
   }
  },
  {
   "cell_type": "code",
   "execution_count": 33,
   "outputs": [],
   "source": [
    "n_strands_3 = 1000000"
   ],
   "metadata": {
    "collapsed": false
   }
  },
  {
   "cell_type": "code",
   "execution_count": 34,
   "outputs": [],
   "source": [
    "Exposures = np.array([700, 600, 500, 400, 300, 200, 100])"
   ],
   "metadata": {
    "collapsed": false
   }
  },
  {
   "cell_type": "code",
   "execution_count": 35,
   "outputs": [],
   "source": [
    "ELGDs = np.array([0.1, 0.2, 0.3, 0.4, 0.5, 0.6, 0.7])"
   ],
   "metadata": {
    "collapsed": false
   }
  },
  {
   "cell_type": "code",
   "execution_count": 36,
   "outputs": [],
   "source": [
    "Firms = np.array([1, 2, 3, 4, 5, 4, 5])"
   ],
   "metadata": {
    "collapsed": false
   }
  },
  {
   "cell_type": "code",
   "execution_count": 37,
   "outputs": [],
   "source": [
    "Expected_Loss = []\n",
    "for firm in range(1, 6):\n",
    "    Expected_Loss.append((Exposures * ELGDs)[Firms == firm].sum())"
   ],
   "metadata": {
    "collapsed": false
   }
  },
  {
   "cell_type": "code",
   "execution_count": 38,
   "outputs": [],
   "source": [
    "Expected_Loss = np.array(Expected_Loss)"
   ],
   "metadata": {
    "collapsed": false
   }
  },
  {
   "cell_type": "code",
   "execution_count": 39,
   "outputs": [],
   "source": [
    "sim_results_3 = sim_MVN(mu_1, Sigma_3, n_strands_3, seed)"
   ],
   "metadata": {
    "collapsed": false
   }
  },
  {
   "cell_type": "code",
   "execution_count": 40,
   "outputs": [],
   "source": [
    "x = sim_Default(PDs_3, sim_results_3)"
   ],
   "metadata": {
    "collapsed": false
   }
  },
  {
   "cell_type": "code",
   "execution_count": 41,
   "outputs": [
    {
     "data": {
      "text/plain": "0.10650584285714286"
     },
     "execution_count": 41,
     "metadata": {},
     "output_type": "execute_result"
    }
   ],
   "source": [
    "(x.mean(axis = 0) * Expected_Loss).sum() / 2800"
   ],
   "metadata": {
    "collapsed": false
   }
  },
  {
   "cell_type": "markdown",
   "source": [
    "#### Default Correlation"
   ],
   "metadata": {
    "collapsed": false
   }
  },
  {
   "cell_type": "code",
   "execution_count": 42,
   "outputs": [],
   "source": [
    "PDJ = multivariate_normal(mean = mu_1, cov = Sigma_3).cdf([np.inf, # Firm 1\n",
    "                                                           np.inf, # Firm 2\n",
    "                                                           norm.ppf(PDs_3)[2], # Firm 3\n",
    "                                                           norm.ppf(PDs_3)[3], # Firm 4\n",
    "                                                           np.inf]) # Firm 5"
   ],
   "metadata": {
    "collapsed": false
   }
  },
  {
   "cell_type": "code",
   "execution_count": 43,
   "outputs": [
    {
     "data": {
      "text/plain": "0.2177297759360109"
     },
     "execution_count": 43,
     "metadata": {},
     "output_type": "execute_result"
    }
   ],
   "source": [
    "(PDJ - PDs_3[2] * PDs_3[3]) / ((PDs_3[2] * (1 - PDs_3[2]) * PDs_3[3] * (1 - PDs_3[3])) ** 0.5)"
   ],
   "metadata": {
    "collapsed": false
   }
  },
  {
   "cell_type": "markdown",
   "source": [
    "# Question 4."
   ],
   "metadata": {
    "collapsed": false
   }
  },
  {
   "cell_type": "code",
   "execution_count": 44,
   "outputs": [],
   "source": [
    "x, y = sympy.symbols('x y')\n",
    "f_xy = (1 + 3*x - y) / 2"
   ],
   "metadata": {
    "collapsed": false
   }
  },
  {
   "cell_type": "markdown",
   "source": [
    "#### Getting Marginal Distributions"
   ],
   "metadata": {
    "collapsed": false
   }
  },
  {
   "cell_type": "markdown",
   "source": [
    "##### For X:"
   ],
   "metadata": {
    "collapsed": false
   }
  },
  {
   "cell_type": "code",
   "execution_count": 45,
   "outputs": [
    {
     "name": "stdout",
     "output_type": "stream",
     "text": [
      "3*x/2 + 1/4\n"
     ]
    }
   ],
   "source": [
    "f_x = sympy.integrate(f_xy, (y, 0, 1))\n",
    "print(f_x)"
   ],
   "metadata": {
    "collapsed": false
   }
  },
  {
   "cell_type": "markdown",
   "source": [
    "##### For Y:"
   ],
   "metadata": {
    "collapsed": false
   }
  },
  {
   "cell_type": "code",
   "execution_count": 46,
   "outputs": [
    {
     "name": "stdout",
     "output_type": "stream",
     "text": [
      "5/4 - y/2\n"
     ]
    }
   ],
   "source": [
    "f_y = sympy.integrate(f_xy, (x, 0, 1))\n",
    "print(f_y)"
   ],
   "metadata": {
    "collapsed": false
   }
  },
  {
   "cell_type": "markdown",
   "source": [
    "#### Getting PDJ"
   ],
   "metadata": {
    "collapsed": false
   }
  },
  {
   "cell_type": "markdown",
   "source": [
    "##### Quantile Function for X:"
   ],
   "metadata": {
    "collapsed": false
   }
  },
  {
   "cell_type": "code",
   "execution_count": 47,
   "outputs": [
    {
     "data": {
      "text/plain": "[-sqrt(48*P + 1)/6 - 1/6, sqrt(48*P + 1)/6 - 1/6]"
     },
     "execution_count": 47,
     "metadata": {},
     "output_type": "execute_result"
    }
   ],
   "source": [
    "z, P = sympy.symbols('z P')\n",
    "inv_F_x = sympy.solve(sympy.integrate(f_x, (x, 0, z)) - P, z)\n",
    "inv_F_x"
   ],
   "metadata": {
    "collapsed": false
   }
  },
  {
   "cell_type": "code",
   "execution_count": 48,
   "outputs": [
    {
     "name": "stdout",
     "output_type": "stream",
     "text": [
      "Quantile function for X: sqrt(48*P + 1)/6 - 1/6\n"
     ]
    }
   ],
   "source": [
    "inv_F_x = inv_F_x[1] # quantile needs to be between 0 and 1\n",
    "print(\"Quantile function for X:\", inv_F_x)"
   ],
   "metadata": {
    "collapsed": false
   }
  },
  {
   "cell_type": "code",
   "execution_count": 49,
   "outputs": [
    {
     "name": "stdout",
     "output_type": "stream",
     "text": [
      "The default quantile for X under the distribution: 0.234719819293077\n"
     ]
    }
   ],
   "source": [
    "PD_x = 0.1\n",
    "x_lim = inv_F_x.subs([(P, PD_x)])\n",
    "print(\"The default quantile for X under the distribution:\", x_lim)"
   ],
   "metadata": {
    "collapsed": false
   }
  },
  {
   "cell_type": "markdown",
   "source": [
    "##### Quantile Function for Y:"
   ],
   "metadata": {
    "collapsed": false
   }
  },
  {
   "cell_type": "code",
   "execution_count": 50,
   "outputs": [
    {
     "data": {
      "text/plain": "[5/2 - sqrt(25 - 16*P)/2, sqrt(25 - 16*P)/2 + 5/2]"
     },
     "execution_count": 50,
     "metadata": {},
     "output_type": "execute_result"
    }
   ],
   "source": [
    "inv_F_y = sympy.solve(sympy.integrate(f_y, (y, 0, z)) - P, z)\n",
    "inv_F_y"
   ],
   "metadata": {
    "collapsed": false
   }
  },
  {
   "cell_type": "code",
   "execution_count": 51,
   "outputs": [
    {
     "name": "stdout",
     "output_type": "stream",
     "text": [
      "Quantile function for Y: 5/2 - sqrt(25 - 16*P)/2\n"
     ]
    }
   ],
   "source": [
    "inv_F_y = inv_F_y[0] # quantile needs to be between 0 and 1\n",
    "print(\"Quantile function for Y:\", inv_F_y)"
   ],
   "metadata": {
    "collapsed": false
   }
  },
  {
   "cell_type": "code",
   "execution_count": 52,
   "outputs": [
    {
     "name": "stdout",
     "output_type": "stream",
     "text": [
      "The default quantile for x under the distribution: 0.165476494014249\n"
     ]
    }
   ],
   "source": [
    "PD_y = 0.2\n",
    "y_lim = inv_F_y.subs([(P, PD_y)])\n",
    "print(\"The default quantile for x under the distribution:\", y_lim)"
   ],
   "metadata": {
    "collapsed": false
   }
  },
  {
   "cell_type": "markdown",
   "source": [
    "##### Joint Probability of Default:"
   ],
   "metadata": {
    "collapsed": false
   }
  },
  {
   "cell_type": "code",
   "execution_count": 53,
   "outputs": [
    {
     "name": "stdout",
     "output_type": "stream",
     "text": [
      "The joint probability of default is: 0.02465100048776372\n"
     ]
    }
   ],
   "source": [
    "PDJ_xy = float(sympy.integrate(f_xy, (x, 0, x_lim), (y, 0, y_lim)))\n",
    "print(\"The joint probability of default is:\", PDJ_xy)"
   ],
   "metadata": {
    "collapsed": false
   }
  },
  {
   "cell_type": "markdown",
   "source": [
    "#### Getting Dcorr"
   ],
   "metadata": {
    "collapsed": false
   }
  },
  {
   "cell_type": "code",
   "execution_count": 54,
   "outputs": [
    {
     "name": "stdout",
     "output_type": "stream",
     "text": [
      "The default correlation is: 0.03875833739803097\n"
     ]
    }
   ],
   "source": [
    "Dcorr = (PDJ_xy - PD_x * PD_y) / ((PD_x * (1 - PD_x) * PD_y * (1 - PD_y)) ** 0.5)\n",
    "print(\"The default correlation is:\", Dcorr)"
   ],
   "metadata": {
    "collapsed": false
   }
  },
  {
   "cell_type": "markdown",
   "source": [
    "#### Getting $\\rho$"
   ],
   "metadata": {
    "collapsed": false
   }
  },
  {
   "cell_type": "code",
   "execution_count": 55,
   "outputs": [
    {
     "name": "stdout",
     "output_type": "stream",
     "text": [
      "The correlation betweeen firm X and Y is: 0.09027978851114904\n"
     ]
    }
   ],
   "source": [
    "rho = minimize(f, x0 = 0, args = (PD_x, PD_y, PDJ_xy), bounds = [(-1, 1)])\n",
    "print(\"The correlation betweeen firm X and Y is:\", rho.x[0])"
   ],
   "metadata": {
    "collapsed": false
   }
  }
 ],
 "metadata": {
  "kernelspec": {
   "display_name": "Python 3",
   "language": "python",
   "name": "python3"
  },
  "language_info": {
   "codemirror_mode": {
    "name": "ipython",
    "version": 2
   },
   "file_extension": ".py",
   "mimetype": "text/x-python",
   "name": "python",
   "nbconvert_exporter": "python",
   "pygments_lexer": "ipython2",
   "version": "2.7.6"
  }
 },
 "nbformat": 4,
 "nbformat_minor": 0
}
