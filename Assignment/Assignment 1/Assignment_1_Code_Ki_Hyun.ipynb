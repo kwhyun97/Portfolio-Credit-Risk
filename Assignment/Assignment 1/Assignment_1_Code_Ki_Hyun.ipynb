{
 "cells": [
  {
   "cell_type": "markdown",
   "source": [
    "<left>FINM 36702 - Portfolio Credit Risk: Modeling and Estimation</left>\n",
    "<left>Spring 2023</left>\n",
    "<br>\n",
    "<h1><center> Assignment 1 </center></h1>\n",
    "<center>Due - 18:00 [CST] March 30th, 2023</center>\n",
    "<br>\n",
    "<h3>Ki Hyun</h3>\n",
    "<h3>Student ID: 12125881</h3>"
   ],
   "metadata": {
    "collapsed": false
   }
  },
  {
   "cell_type": "markdown",
   "id": "ec9bcdca",
   "metadata": {},
   "source": [
    "### Imports"
   ]
  },
  {
   "cell_type": "code",
   "execution_count": 1,
   "id": "2c69228f",
   "metadata": {},
   "outputs": [],
   "source": [
    "from scipy.stats import multivariate_normal\n",
    "from scipy.optimize import minimize\n",
    "from scipy.stats import norm\n",
    "from scipy.stats import mvn\n",
    "import numpy as np\n",
    "import warnings"
   ]
  },
  {
   "cell_type": "code",
   "execution_count": 2,
   "outputs": [],
   "source": [
    "warnings.filterwarnings(\"ignore\")"
   ],
   "metadata": {
    "collapsed": false
   }
  },
  {
   "cell_type": "markdown",
   "id": "f3dc6307",
   "metadata": {},
   "source": [
    "### Helper Functions"
   ]
  },
  {
   "cell_type": "code",
   "execution_count": 3,
   "id": "a6069d2c",
   "metadata": {},
   "outputs": [],
   "source": [
    "def MVN_p(rho, pd_1, pd_2):\n",
    "    try:\n",
    "        rho = rho[0]\n",
    "    except:\n",
    "        pass\n",
    "    mu = np.array([0, 0], dtype = float)\n",
    "    sigma = np.array([[1, rho], [rho, 1]], dtype = float)\n",
    "    inv_cdf_1 = norm.ppf(pd_1)\n",
    "    inv_cdf_2 = norm.ppf(pd_2)\n",
    "\n",
    "    # add a small positive value to the diagonal entries of the covariance matrix\n",
    "    sigma += np.eye(2) * 1e-8\n",
    "\n",
    "    cdf = multivariate_normal(mean = mu, cov = sigma).cdf([inv_cdf_1, inv_cdf_2])\n",
    "\n",
    "    return cdf"
   ]
  },
  {
   "cell_type": "code",
   "execution_count": 4,
   "outputs": [],
   "source": [
    "def f(x, pd_1, pd_2, pdj):\n",
    "    return abs(MVN_p(x, pd_1, pd_2) - pdj)"
   ],
   "metadata": {
    "collapsed": false
   }
  },
  {
   "cell_type": "code",
   "execution_count": 5,
   "id": "8b67ff26",
   "metadata": {},
   "outputs": [],
   "source": [
    "def MVN_bounded_p(rho, low_1, upper_1, low_2, upper_2):\n",
    "    mu = np.asarray([0, 0], dtype = float)\n",
    "    cov = np.asarray([[1, rho], [rho, 1]], dtype = float)\n",
    "\n",
    "    # Define the lower and upper bounds for the two variables\n",
    "    lower = np.array([norm.ppf(low_1), norm.ppf(low_2)], dtype = float)\n",
    "    upper = np.array([norm.ppf(upper_1), norm.ppf(upper_2)], dtype = float)\n",
    "\n",
    "    # Calculate the joint probability using the mvn function\n",
    "    joint_prob, _ = mvn.mvnun(lower, upper, mu, cov)\n",
    "    \n",
    "    return joint_prob"
   ]
  },
  {
   "cell_type": "markdown",
   "id": "0d2777ac",
   "metadata": {},
   "source": [
    "## Question 1."
   ]
  },
  {
   "cell_type": "code",
   "execution_count": 6,
   "id": "647ff51b",
   "metadata": {},
   "outputs": [],
   "source": [
    "PDs = [0.1, 0.2, 0.3]"
   ]
  },
  {
   "cell_type": "code",
   "execution_count": 7,
   "id": "1404fd1e",
   "metadata": {},
   "outputs": [],
   "source": [
    "PDJ = 0.06"
   ]
  },
  {
   "cell_type": "code",
   "execution_count": 8,
   "id": "83f6a904",
   "metadata": {},
   "outputs": [],
   "source": [
    "rhos = []"
   ]
  },
  {
   "cell_type": "code",
   "execution_count": 9,
   "id": "9bd918b8",
   "metadata": {},
   "outputs": [
    {
     "name": "stdout",
     "output_type": "stream",
     "text": [
      "The correlation betweeen firm 1 and firm 2 is: 0.6025696613871128\n",
      "The default correlation betweeen firm 1 and firm 2 is: 0.33333333333333326\n",
      "The correlation betweeen firm 1 and firm 3 is: 0.43224726736836194\n",
      "The default correlation betweeen firm 1 and firm 3 is: 0.2182178902359924\n",
      "The correlation betweeen firm 2 and firm 3 is: -6.532844441960453e-09\n",
      "The default correlation betweeen firm 2 and firm 3 is: 0.0\n"
     ]
    }
   ],
   "source": [
    "for i in range(len(PDs) - 1):\n",
    "    for j in range(i + 1, len(PDs)):\n",
    "        rho = minimize(f, x0 = 0, args = (PDs[i], PDs[j], PDJ), bounds = [(-1, 1)])\n",
    "        rhos.append(rho)\n",
    "        print(\"The correlation betweeen firm\", i + 1, \"and firm\", j + 1, \"is:\", rho.x[0])\n",
    "        Corr_D = (PDJ - PDs[i] * PDs[j]) / ((PDs[i] * (1 - PDs[i]) * PDs[j] * (1 - PDs[j])) ** 0.5)\n",
    "        print(\"The default correlation betweeen firm\", i + 1, \"and firm\", j + 1, \"is:\", Corr_D)"
   ]
  },
  {
   "cell_type": "markdown",
   "id": "c573b719",
   "metadata": {},
   "source": [
    "## Question 2."
   ]
  },
  {
   "cell_type": "code",
   "execution_count": 10,
   "id": "17f9f341",
   "metadata": {},
   "outputs": [],
   "source": [
    "rho_1_2 = 0.4\n",
    "rho_1_3 = 0.5\n",
    "rho_2_3 = 0.6\n",
    "PD = 0.1"
   ]
  },
  {
   "cell_type": "code",
   "execution_count": 11,
   "id": "1ba31549",
   "metadata": {},
   "outputs": [],
   "source": [
    "mu = [0,0,0]\n",
    "sigma = [[1,0.4,0.5],[0.4,1,0.6],[0.5,0.6,1]]"
   ]
  },
  {
   "cell_type": "code",
   "execution_count": 12,
   "id": "f6385f1b",
   "metadata": {},
   "outputs": [
    {
     "name": "stdout",
     "output_type": "stream",
     "text": [
      "The PDJ between firm 1 and firm 2 is 0.027\n",
      "The PDJ between firm 1 and firm 3 is 0.032\n",
      "The PDJ between firm 2 and firm 3 is 0.039\n"
     ]
    }
   ],
   "source": [
    "print(\"The PDJ between firm 1 and firm 2 is\", round(MVN_p(rho_1_2, PD, PD), 3))\n",
    "print(\"The PDJ between firm 1 and firm 3 is\", round(MVN_p(rho_1_3, PD, PD), 3))\n",
    "print(\"The PDJ between firm 2 and firm 3 is\", round(MVN_p(rho_2_3, PD, PD), 3))"
   ]
  },
  {
   "cell_type": "code",
   "execution_count": 13,
   "id": "a3d9f0a9",
   "metadata": {},
   "outputs": [
    {
     "name": "stdout",
     "output_type": "stream",
     "text": [
      "The probability that all three default under the Gauss copula 0.016\n"
     ]
    }
   ],
   "source": [
    "print(\"The probability that all three default under the Gauss copula\", \n",
    "      round(multivariate_normal(mean = mu, cov = sigma).cdf([norm.ppf(PD), norm.ppf(PD), norm.ppf(PD)]),3))"
   ]
  },
  {
   "cell_type": "markdown",
   "id": "5d553631",
   "metadata": {},
   "source": [
    "## Question 3."
   ]
  },
  {
   "cell_type": "code",
   "execution_count": 14,
   "id": "15e8097e",
   "metadata": {},
   "outputs": [],
   "source": [
    "transition_matrix = [[[0.5, 1], [0.1, 0.5], [0, 0.1]], [[0.7, 1], [0.2, 0.7], [0, 0.2]]]"
   ]
  },
  {
   "cell_type": "code",
   "execution_count": 15,
   "id": "7dba3230",
   "metadata": {},
   "outputs": [],
   "source": [
    "ratings = [\"A\", \"B\", \"D\"]"
   ]
  },
  {
   "cell_type": "code",
   "execution_count": 16,
   "id": "92548e0c",
   "metadata": {},
   "outputs": [],
   "source": [
    "rho = 0.4"
   ]
  },
  {
   "cell_type": "code",
   "execution_count": 17,
   "id": "4bbae7a6",
   "metadata": {},
   "outputs": [
    {
     "name": "stdout",
     "output_type": "stream",
     "text": [
      "Joint Probability of firm A -> rating A and firm B -> rating A : 0.32\n",
      "Joint Probability of firm A -> rating A and firm B -> rating B : 0.16\n",
      "Joint Probability of firm A -> rating A and firm B -> rating D : 0.02\n",
      "Joint Probability of firm A -> rating B and firm B -> rating A : 0.16\n",
      "Joint Probability of firm A -> rating B and firm B -> rating B : 0.19\n",
      "Joint Probability of firm A -> rating B and firm B -> rating D : 0.05\n",
      "Joint Probability of firm A -> rating D and firm B -> rating A : 0.02\n",
      "Joint Probability of firm A -> rating D and firm B -> rating B : 0.05\n",
      "Joint Probability of firm A -> rating D and firm B -> rating D : 0.03\n"
     ]
    }
   ],
   "source": [
    "for i in range(len(transition_matrix[0])):\n",
    "    for j in range(len(transition_matrix[0])):\n",
    "        print(\"Joint Probability of firm\", ratings[0], \"-> rating\", ratings[i], \n",
    "              \"and firm\", ratings[1], \"-> rating\", ratings[j], \":\", \n",
    "              round(MVN_bounded_p(rho, transition_matrix[0][i][0], transition_matrix[0][i][1],\n",
    "                           transition_matrix[0][j][0], transition_matrix[0][j][1]), 2))"
   ]
  },
  {
   "cell_type": "markdown",
   "id": "4f73b473",
   "metadata": {},
   "source": [
    "## Question 4."
   ]
  },
  {
   "cell_type": "code",
   "execution_count": 18,
   "id": "afe5d428",
   "metadata": {},
   "outputs": [],
   "source": [
    "PDs2 = [0.01, 0.02, 0.03, 0.04]"
   ]
  },
  {
   "cell_type": "code",
   "execution_count": 19,
   "id": "cdbd94e5",
   "metadata": {},
   "outputs": [],
   "source": [
    "PDJ2 = 0.001"
   ]
  },
  {
   "cell_type": "code",
   "execution_count": 20,
   "id": "75030463",
   "metadata": {},
   "outputs": [],
   "source": [
    "rhos2 = []"
   ]
  },
  {
   "cell_type": "code",
   "execution_count": 21,
   "id": "b92da95d",
   "metadata": {},
   "outputs": [
    {
     "name": "stdout",
     "output_type": "stream",
     "text": [
      "The correlation betweeen firm 1 and firm 2 is: 0.3111861238586191\n",
      "The correlation betweeen firm 1 and firm 3 is: 0.23718940120836163\n",
      "The correlation betweeen firm 1 and firm 4 is: 0.18336733505639266\n",
      "The correlation betweeen firm 2 and firm 3 is: 0.1005098252975813\n",
      "The correlation betweeen firm 2 and firm 4 is: 0.04430852169794148\n",
      "The correlation betweeen firm 3 and firm 4 is: -0.03622909563652467\n"
     ]
    }
   ],
   "source": [
    "for i in range(len(PDs2) - 1):\n",
    "    for j in range(i + 1, len(PDs2)):\n",
    "        rho = minimize(f, x0 = 0, args = (PDs2[i], PDs2[j], PDJ2), method='L-BFGS-B', bounds = [(-1, 1)])\n",
    "        rhos2.append(rho)\n",
    "        print(\"The correlation betweeen firm\", i + 1, \"and firm\", j + 1, \"is:\", rho.x[0])"
   ]
  },
  {
   "cell_type": "code",
   "execution_count": 22,
   "outputs": [],
   "source": [
    "Sigma = []"
   ],
   "metadata": {
    "collapsed": false
   }
  },
  {
   "cell_type": "code",
   "execution_count": 23,
   "outputs": [],
   "source": [
    "for i in range(len(PDs2)):\n",
    "    Sigma_row = []\n",
    "    for j in range(len(PDs2)):\n",
    "        if i == j:\n",
    "            Sigma_row.append(1.0)\n",
    "\n",
    "        else:\n",
    "            low = min(i, j) + 1\n",
    "            high = max(i, j) + 1\n",
    "            n = len(PDs)\n",
    "            if low == 1:\n",
    "                flag = int(high - low - 1)\n",
    "            else:\n",
    "                flag = int(n * (low - 1) - low * (low - 1) / 2 + (high - low - 1))\n",
    "            Sigma_row.append(rhos2[flag].x[0])\n",
    "\n",
    "    Sigma.append(Sigma_row)"
   ],
   "metadata": {
    "collapsed": false
   }
  },
  {
   "cell_type": "code",
   "execution_count": 24,
   "outputs": [],
   "source": [
    "Sigma = np.array(Sigma, dtype = float)"
   ],
   "metadata": {
    "collapsed": false
   }
  },
  {
   "cell_type": "code",
   "execution_count": 25,
   "outputs": [],
   "source": [
    "w, v = np.linalg.eig(Sigma)"
   ],
   "metadata": {
    "collapsed": false
   }
  },
  {
   "cell_type": "code",
   "execution_count": 26,
   "outputs": [
    {
     "name": "stdout",
     "output_type": "stream",
     "text": [
      "Eigen-values: [1.5796624  0.66913805 0.82730131 0.92389824]\n"
     ]
    }
   ],
   "source": [
    "print('Eigen-values:', w)"
   ],
   "metadata": {
    "collapsed": false
   }
  },
  {
   "cell_type": "code",
   "execution_count": 27,
   "outputs": [
    {
     "name": "stdout",
     "output_type": "stream",
     "text": [
      "Eigen-vectors: [[-0.59654517 -0.77638017  0.19575699 -0.0551987 ]\n",
      " [-0.53394075  0.56906858  0.54175004 -0.31237017]\n",
      " [-0.47608928  0.17956563 -0.81600203 -0.27429157]\n",
      " [-0.36384081  0.20285702 -0.04823672  0.90782273]]\n"
     ]
    }
   ],
   "source": [
    "print('Eigen-vectors:', v)"
   ],
   "metadata": {
    "collapsed": false
   }
  }
 ],
 "metadata": {
  "kernelspec": {
   "display_name": "Python 3 (ipykernel)",
   "language": "python",
   "name": "python3"
  },
  "language_info": {
   "codemirror_mode": {
    "name": "ipython",
    "version": 3
   },
   "file_extension": ".py",
   "mimetype": "text/x-python",
   "name": "python",
   "nbconvert_exporter": "python",
   "pygments_lexer": "ipython3",
   "version": "3.11.0"
  }
 },
 "nbformat": 4,
 "nbformat_minor": 5
}
